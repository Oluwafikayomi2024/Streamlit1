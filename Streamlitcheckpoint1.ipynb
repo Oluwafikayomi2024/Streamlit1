{
 "cells": [
  {
   "cell_type": "code",
   "execution_count": 1,
   "id": "34d21da2",
   "metadata": {},
   "outputs": [],
   "source": [
    "import pandas as pd\n",
    "\n",
    "from sklearn.preprocessing import LabelEncoder\n",
    "from sklearn.model_selection import train_test_split\n",
    "from sklearn.ensemble import RandomForestClassifier\n",
    "from sklearn.metrics import classification_report\n",
    "\n",
    "import warnings\n",
    "warnings.filterwarnings('ignore')"
   ]
  },
  {
   "cell_type": "code",
   "execution_count": 2,
   "id": "e8c1199d",
   "metadata": {},
   "outputs": [
    {
     "data": {
      "text/html": [
       "<div>\n",
       "<style scoped>\n",
       "    .dataframe tbody tr th:only-of-type {\n",
       "        vertical-align: middle;\n",
       "    }\n",
       "\n",
       "    .dataframe tbody tr th {\n",
       "        vertical-align: top;\n",
       "    }\n",
       "\n",
       "    .dataframe thead th {\n",
       "        text-align: right;\n",
       "    }\n",
       "</style>\n",
       "<table border=\"1\" class=\"dataframe\">\n",
       "  <thead>\n",
       "    <tr style=\"text-align: right;\">\n",
       "      <th></th>\n",
       "      <th>user_id</th>\n",
       "      <th>REGION</th>\n",
       "      <th>TENURE</th>\n",
       "      <th>MONTANT</th>\n",
       "      <th>FREQUENCE_RECH</th>\n",
       "      <th>REVENUE</th>\n",
       "      <th>ARPU_SEGMENT</th>\n",
       "      <th>FREQUENCE</th>\n",
       "      <th>DATA_VOLUME</th>\n",
       "      <th>ON_NET</th>\n",
       "      <th>ORANGE</th>\n",
       "      <th>TIGO</th>\n",
       "      <th>ZONE1</th>\n",
       "      <th>ZONE2</th>\n",
       "      <th>MRG</th>\n",
       "      <th>REGULARITY</th>\n",
       "      <th>TOP_PACK</th>\n",
       "      <th>FREQ_TOP_PACK</th>\n",
       "      <th>CHURN</th>\n",
       "    </tr>\n",
       "  </thead>\n",
       "  <tbody>\n",
       "    <tr>\n",
       "      <th>0</th>\n",
       "      <td>00000bfd7d50f01092811bc0c8d7b0d6fe7c3596</td>\n",
       "      <td>FATICK</td>\n",
       "      <td>K &gt; 24 month</td>\n",
       "      <td>4250.0</td>\n",
       "      <td>15.0</td>\n",
       "      <td>4251.0</td>\n",
       "      <td>1417.0</td>\n",
       "      <td>17.0</td>\n",
       "      <td>4.0</td>\n",
       "      <td>388.0</td>\n",
       "      <td>46.0</td>\n",
       "      <td>1.0</td>\n",
       "      <td>1.0</td>\n",
       "      <td>2.0</td>\n",
       "      <td>NO</td>\n",
       "      <td>54</td>\n",
       "      <td>On net 200F=Unlimited _call24H</td>\n",
       "      <td>8.0</td>\n",
       "      <td>0</td>\n",
       "    </tr>\n",
       "    <tr>\n",
       "      <th>1</th>\n",
       "      <td>00000cb4a5d760de88fecb38e2f71b7bec52e834</td>\n",
       "      <td>NaN</td>\n",
       "      <td>I 18-21 month</td>\n",
       "      <td>NaN</td>\n",
       "      <td>NaN</td>\n",
       "      <td>NaN</td>\n",
       "      <td>NaN</td>\n",
       "      <td>NaN</td>\n",
       "      <td>NaN</td>\n",
       "      <td>NaN</td>\n",
       "      <td>NaN</td>\n",
       "      <td>NaN</td>\n",
       "      <td>NaN</td>\n",
       "      <td>NaN</td>\n",
       "      <td>NO</td>\n",
       "      <td>4</td>\n",
       "      <td>NaN</td>\n",
       "      <td>NaN</td>\n",
       "      <td>1</td>\n",
       "    </tr>\n",
       "    <tr>\n",
       "      <th>2</th>\n",
       "      <td>00001654a9d9f96303d9969d0a4a851714a4bb57</td>\n",
       "      <td>NaN</td>\n",
       "      <td>K &gt; 24 month</td>\n",
       "      <td>3600.0</td>\n",
       "      <td>2.0</td>\n",
       "      <td>1020.0</td>\n",
       "      <td>340.0</td>\n",
       "      <td>2.0</td>\n",
       "      <td>NaN</td>\n",
       "      <td>90.0</td>\n",
       "      <td>46.0</td>\n",
       "      <td>7.0</td>\n",
       "      <td>NaN</td>\n",
       "      <td>NaN</td>\n",
       "      <td>NO</td>\n",
       "      <td>17</td>\n",
       "      <td>On-net 1000F=10MilF;10d</td>\n",
       "      <td>1.0</td>\n",
       "      <td>0</td>\n",
       "    </tr>\n",
       "    <tr>\n",
       "      <th>3</th>\n",
       "      <td>00001dd6fa45f7ba044bd5d84937be464ce78ac2</td>\n",
       "      <td>DAKAR</td>\n",
       "      <td>K &gt; 24 month</td>\n",
       "      <td>13500.0</td>\n",
       "      <td>15.0</td>\n",
       "      <td>13502.0</td>\n",
       "      <td>4501.0</td>\n",
       "      <td>18.0</td>\n",
       "      <td>43804.0</td>\n",
       "      <td>41.0</td>\n",
       "      <td>102.0</td>\n",
       "      <td>2.0</td>\n",
       "      <td>NaN</td>\n",
       "      <td>NaN</td>\n",
       "      <td>NO</td>\n",
       "      <td>62</td>\n",
       "      <td>Data:1000F=5GB,7d</td>\n",
       "      <td>11.0</td>\n",
       "      <td>0</td>\n",
       "    </tr>\n",
       "    <tr>\n",
       "      <th>4</th>\n",
       "      <td>000028d9e13a595abe061f9b58f3d76ab907850f</td>\n",
       "      <td>DAKAR</td>\n",
       "      <td>K &gt; 24 month</td>\n",
       "      <td>1000.0</td>\n",
       "      <td>1.0</td>\n",
       "      <td>985.0</td>\n",
       "      <td>328.0</td>\n",
       "      <td>1.0</td>\n",
       "      <td>NaN</td>\n",
       "      <td>39.0</td>\n",
       "      <td>24.0</td>\n",
       "      <td>NaN</td>\n",
       "      <td>NaN</td>\n",
       "      <td>NaN</td>\n",
       "      <td>NO</td>\n",
       "      <td>11</td>\n",
       "      <td>Mixt 250F=Unlimited_call24H</td>\n",
       "      <td>2.0</td>\n",
       "      <td>0</td>\n",
       "    </tr>\n",
       "  </tbody>\n",
       "</table>\n",
       "</div>"
      ],
      "text/plain": [
       "                                    user_id  REGION         TENURE  MONTANT  \\\n",
       "0  00000bfd7d50f01092811bc0c8d7b0d6fe7c3596  FATICK   K > 24 month   4250.0   \n",
       "1  00000cb4a5d760de88fecb38e2f71b7bec52e834     NaN  I 18-21 month      NaN   \n",
       "2  00001654a9d9f96303d9969d0a4a851714a4bb57     NaN   K > 24 month   3600.0   \n",
       "3  00001dd6fa45f7ba044bd5d84937be464ce78ac2   DAKAR   K > 24 month  13500.0   \n",
       "4  000028d9e13a595abe061f9b58f3d76ab907850f   DAKAR   K > 24 month   1000.0   \n",
       "\n",
       "   FREQUENCE_RECH  REVENUE  ARPU_SEGMENT  FREQUENCE  DATA_VOLUME  ON_NET  \\\n",
       "0            15.0   4251.0        1417.0       17.0          4.0   388.0   \n",
       "1             NaN      NaN           NaN        NaN          NaN     NaN   \n",
       "2             2.0   1020.0         340.0        2.0          NaN    90.0   \n",
       "3            15.0  13502.0        4501.0       18.0      43804.0    41.0   \n",
       "4             1.0    985.0         328.0        1.0          NaN    39.0   \n",
       "\n",
       "   ORANGE  TIGO  ZONE1  ZONE2 MRG  REGULARITY                        TOP_PACK  \\\n",
       "0    46.0   1.0    1.0    2.0  NO          54  On net 200F=Unlimited _call24H   \n",
       "1     NaN   NaN    NaN    NaN  NO           4                             NaN   \n",
       "2    46.0   7.0    NaN    NaN  NO          17         On-net 1000F=10MilF;10d   \n",
       "3   102.0   2.0    NaN    NaN  NO          62               Data:1000F=5GB,7d   \n",
       "4    24.0   NaN    NaN    NaN  NO          11     Mixt 250F=Unlimited_call24H   \n",
       "\n",
       "   FREQ_TOP_PACK  CHURN  \n",
       "0            8.0      0  \n",
       "1            NaN      1  \n",
       "2            1.0      0  \n",
       "3           11.0      0  \n",
       "4            2.0      0  "
      ]
     },
     "execution_count": 2,
     "metadata": {},
     "output_type": "execute_result"
    }
   ],
   "source": [
    "df = pd.read_csv('./Expresso_churn_dataset.csv')\n",
    "df.head()"
   ]
  },
  {
   "cell_type": "code",
   "execution_count": 3,
   "id": "0db233f9",
   "metadata": {},
   "outputs": [
    {
     "name": "stdout",
     "output_type": "stream",
     "text": [
      "<class 'pandas.core.frame.DataFrame'>\n",
      "RangeIndex: 2154048 entries, 0 to 2154047\n",
      "Data columns (total 19 columns):\n",
      " #   Column          Dtype  \n",
      "---  ------          -----  \n",
      " 0   user_id         object \n",
      " 1   REGION          object \n",
      " 2   TENURE          object \n",
      " 3   MONTANT         float64\n",
      " 4   FREQUENCE_RECH  float64\n",
      " 5   REVENUE         float64\n",
      " 6   ARPU_SEGMENT    float64\n",
      " 7   FREQUENCE       float64\n",
      " 8   DATA_VOLUME     float64\n",
      " 9   ON_NET          float64\n",
      " 10  ORANGE          float64\n",
      " 11  TIGO            float64\n",
      " 12  ZONE1           float64\n",
      " 13  ZONE2           float64\n",
      " 14  MRG             object \n",
      " 15  REGULARITY      int64  \n",
      " 16  TOP_PACK        object \n",
      " 17  FREQ_TOP_PACK   float64\n",
      " 18  CHURN           int64  \n",
      "dtypes: float64(12), int64(2), object(5)\n",
      "memory usage: 312.2+ MB\n"
     ]
    }
   ],
   "source": [
    "df.info()"
   ]
  },
  {
   "cell_type": "code",
   "execution_count": 4,
   "id": "80899ba7",
   "metadata": {},
   "outputs": [],
   "source": [
    "### DATA CLEANING\n",
    "# Drop unnecessary columns\n",
    "df.drop(columns=['user_id', 'TENURE', \"TOP_PACK\"], inplace=True)"
   ]
  },
  {
   "cell_type": "code",
   "execution_count": 5,
   "id": "29b66038",
   "metadata": {},
   "outputs": [],
   "source": [
    "# Fill in the categorical columns with the most frequent value\n",
    "categorical_columns = df.select_dtypes(include=['object']).columns\n",
    "\n",
    "for col in categorical_columns:\n",
    "    df[col].fillna(df[col].mode()[0], inplace=True)\n",
    "\n"
   ]
  },
  {
   "cell_type": "code",
   "execution_count": 6,
   "id": "e47d5e72",
   "metadata": {},
   "outputs": [],
   "source": [
    "# Fill in the numerical columns with the median value\n",
    "numerical_columns = df.select_dtypes(include=['int64', 'float64']).columns\n",
    "for col in numerical_columns:\n",
    "    df[col].fillna(df[col].median(), inplace=True)"
   ]
  },
  {
   "cell_type": "code",
   "execution_count": 7,
   "id": "efc0aeea",
   "metadata": {},
   "outputs": [
    {
     "data": {
      "text/plain": [
       "REGION            0\n",
       "MONTANT           0\n",
       "FREQUENCE_RECH    0\n",
       "REVENUE           0\n",
       "ARPU_SEGMENT      0\n",
       "FREQUENCE         0\n",
       "DATA_VOLUME       0\n",
       "ON_NET            0\n",
       "ORANGE            0\n",
       "TIGO              0\n",
       "ZONE1             0\n",
       "ZONE2             0\n",
       "MRG               0\n",
       "REGULARITY        0\n",
       "FREQ_TOP_PACK     0\n",
       "CHURN             0\n",
       "dtype: int64"
      ]
     },
     "execution_count": 7,
     "metadata": {},
     "output_type": "execute_result"
    }
   ],
   "source": [
    "df.isnull().sum() #check if there are any null values left"
   ]
  },
  {
   "cell_type": "code",
   "execution_count": 8,
   "id": "1c85262d",
   "metadata": {},
   "outputs": [],
   "source": [
    "#save the cleaned data\n",
    "df.to_csv('cleaned_data.csv', index=False)"
   ]
  },
  {
   "cell_type": "code",
   "execution_count": 9,
   "id": "9d2aedcc",
   "metadata": {},
   "outputs": [
    {
     "name": "stdout",
     "output_type": "stream",
     "text": [
      "Encoding for column 'REGION':\n",
      "  'DAKAR' : 0\n",
      "  'DIOURBEL' : 1\n",
      "  'FATICK' : 2\n",
      "  'KAFFRINE' : 3\n",
      "  'KAOLACK' : 4\n",
      "  'KEDOUGOU' : 5\n",
      "  'KOLDA' : 6\n",
      "  'LOUGA' : 7\n",
      "  'MATAM' : 8\n",
      "  'SAINT-LOUIS' : 9\n",
      "  'SEDHIOU' : 10\n",
      "  'TAMBACOUNDA' : 11\n",
      "  'THIES' : 12\n",
      "  'ZIGUINCHOR' : 13\n",
      "----------------------------------------\n",
      "Encoding for column 'MRG':\n",
      "  'NO' : 0\n",
      "----------------------------------------\n"
     ]
    }
   ],
   "source": [
    "# Initialize the LabelEncoder\n",
    "le = LabelEncoder()\n",
    "\n",
    "# Encode categorical variables\n",
    "for col in categorical_columns:\n",
    "    df[col] = le.fit_transform(df[col])\n",
    "    \n",
    "    # Show the mapping of original labels to encoded numbers\n",
    "    label_mapping = dict(zip(le.classes_, le.transform(le.classes_)))\n",
    "    print(f\"Encoding for column '{col}':\")\n",
    "    for label, number in label_mapping.items():\n",
    "        print(f\"  '{label}' : {number}\")\n",
    "    print(\"-\" * 40)\n"
   ]
  },
  {
   "cell_type": "code",
   "execution_count": 10,
   "id": "476749e4",
   "metadata": {},
   "outputs": [],
   "source": [
    "### Split the data into features and target variable\n",
    "features = df.drop(columns=['CHURN'])\n",
    "labels = df['CHURN']"
   ]
  },
  {
   "cell_type": "code",
   "execution_count": 11,
   "id": "1ad8f882",
   "metadata": {},
   "outputs": [],
   "source": [
    "# Split the data into training and testing sets\n",
    "X_train, X_test, y_train, y_test = train_test_split(features, labels, test_size=0.2, random_state=42)"
   ]
  },
  {
   "cell_type": "code",
   "execution_count": 12,
   "id": "4d8bd3f9",
   "metadata": {},
   "outputs": [],
   "source": [
    "### Train the Random Forest Classifier\n",
    "# Initialize the Random Forest Classifier\n",
    "rf_classifier = RandomForestClassifier(n_estimators=5, random_state=42)\n",
    "# Fit the model to the training data\n",
    "rf_classifier.fit(X_train, y_train)\n",
    "# Make predictions on the test data\n",
    "y_pred = rf_classifier.predict(X_test)"
   ]
  },
  {
   "cell_type": "code",
   "execution_count": 13,
   "id": "53b72b39",
   "metadata": {},
   "outputs": [
    {
     "data": {
      "text/plain": [
       "array([0, 0, 1, 0, 0, 0, 0, 0, 0, 0], dtype=int64)"
      ]
     },
     "execution_count": 13,
     "metadata": {},
     "output_type": "execute_result"
    }
   ],
   "source": [
    "y_pred[:10] # Check the first 10 predictions"
   ]
  },
  {
   "cell_type": "code",
   "execution_count": 14,
   "id": "b8d8410c",
   "metadata": {},
   "outputs": [
    {
     "name": "stdout",
     "output_type": "stream",
     "text": [
      "              precision    recall  f1-score   support\n",
      "\n",
      "           0       0.91      0.92      0.92    349773\n",
      "           1       0.65      0.62      0.63     81037\n",
      "\n",
      "    accuracy                           0.87    430810\n",
      "   macro avg       0.78      0.77      0.78    430810\n",
      "weighted avg       0.86      0.87      0.86    430810\n",
      "\n"
     ]
    }
   ],
   "source": [
    "# Evaluate the model\n",
    "print(classification_report(y_test, y_pred))"
   ]
  },
  {
   "cell_type": "code",
   "execution_count": 15,
   "id": "4fc5c2b9",
   "metadata": {},
   "outputs": [],
   "source": [
    "# Save the model using pickle\n",
    "import pickle\n",
    "# Save the model to a file and label encoder\n",
    "with open('label_encoder.pkl', 'wb') as le_file:\n",
    "    pickle.dump(le, le_file)\n",
    "with open('rf_classifier.pkl', 'wb') as model_file:\n",
    "    pickle.dump(rf_classifier, model_file)\n"
   ]
  },
  {
   "cell_type": "code",
   "execution_count": null,
   "id": "219a995a",
   "metadata": {},
   "outputs": [],
   "source": []
  }
 ],
 "metadata": {
  "kernelspec": {
   "display_name": "base",
   "language": "python",
   "name": "python3"
  },
  "language_info": {
   "codemirror_mode": {
    "name": "ipython",
    "version": 3
   },
   "file_extension": ".py",
   "mimetype": "text/x-python",
   "name": "python",
   "nbconvert_exporter": "python",
   "pygments_lexer": "ipython3",
   "version": "3.12.7"
  }
 },
 "nbformat": 4,
 "nbformat_minor": 5
}
